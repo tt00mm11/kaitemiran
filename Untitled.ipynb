{
 "cells": [
  {
   "cell_type": "code",
   "execution_count": null,
   "id": "2ec2beb1",
   "metadata": {},
   "outputs": [],
   "source": [
    "# def svimg(image, filename):\n",
    "image = ''\n",
    "image += '=' * (-len(image) % 4)\n",
    "img_data = base64.b64decode(image)\n",
    "img_data = re.sub(r'=+$', '', img_data)\n",
    "credentials = service_account.Credentials.from_service_account_file('kakushiru-fd65da234d38.json')\n",
    "project_id = \"kakushiru\"\n",
    "gcs_client = gcs.Client(project_id, credentials=credentials)\n",
    "bucket_name = \"kakushiru.appspot.com\"\n",
    "gcs_path = \"/image/kakushiru{}\".format(filename)  # 自分でファイル名決めてOK →　BQにこのアドレス保存すべし\n",
    "bucket = gcs_client.get_bucket(bucket_name)\n",
    "blob_gcs = bucket.blob(gcs_path)\n",
    "blob_gcs.upload_from_string(data=img_data, content_type=\"image/png\")"
   ]
  }
 ],
 "metadata": {
  "kernelspec": {
   "display_name": "Python 3 (ipykernel)",
   "language": "python",
   "name": "python3"
  },
  "language_info": {
   "codemirror_mode": {
    "name": "ipython",
    "version": 3
   },
   "file_extension": ".py",
   "mimetype": "text/x-python",
   "name": "python",
   "nbconvert_exporter": "python",
   "pygments_lexer": "ipython3",
   "version": "3.10.2"
  }
 },
 "nbformat": 4,
 "nbformat_minor": 5
}
